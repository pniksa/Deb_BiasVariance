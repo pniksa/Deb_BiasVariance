{
 "cells": [
  {
   "cell_type": "markdown",
   "metadata": {},
   "source": [
    "Bias and Variance"
   ]
  },
  {
   "cell_type": "markdown",
   "metadata": {},
   "source": [
    "Given some datapoints.\n",
    "We can model the data with a regression model.\n",
    "However, when choosing a regression model, one may under- or overfit the data.\n",
    "Two key quantities that determine the error of a model, alongside any intrinsic error or noise in the data itself is the variance and the bias of the model."
   ]
  },
  {
   "cell_type": "markdown",
   "metadata": {},
   "source": [
    "Variance:\n",
    "Given an expectation value $<f(D)>$, where D is a dataset and f is a model.\n",
    "The variance of the model for a given dataset corresponds to ${\\rm Var}(f)=<f(D)^2> - <f(D)>^2$.\n",
    "A high variance indicates overfitting as the model highly adjusts to variations in a dataset."
   ]
  },
  {
   "cell_type": "markdown",
   "metadata": {},
   "source": [
    "Bias is a measure of our assumptions about the expectation about how the dataset may be modeled best.\n",
    "Let us assume we know the perfect model $\\hat{f}$.\n",
    "Then the bias of the model corresponds to ${\\rm Bias}(f, \\hat{f})<\\hat{f}> - <f>$."
   ]
  },
  {
   "cell_type": "markdown",
   "metadata": {},
   "source": [
    "Then the total error of a model can be approximated as intrinsic error + Var + Bias$^2$.\n",
    "In general we want to keep said error as low as possible.\n",
    "The intrinsic error is related to the lack of a perfect model in general and related to the incompleteness and variability of the dataset in question."
   ]
  },
  {
   "cell_type": "markdown",
   "metadata": {},
   "source": [
    "Example:\n",
    "Point of Data"
   ]
  },
  {
   "cell_type": "code",
   "execution_count": 23,
   "metadata": {},
   "outputs": [],
   "source": [
    "import numpy as np\n",
    "x = [1, 2, 3, 4, 5, 6, 10]\n",
    "y = np.exp(x)"
   ]
  },
  {
   "cell_type": "markdown",
   "metadata": {},
   "source": [
    "Model exp and true model exp:\n",
    "In that case bias will vanish for this dataset obviously, but variance will not.\n"
   ]
  },
  {
   "cell_type": "code",
   "execution_count": 24,
   "metadata": {},
   "outputs": [
    {
     "name": "stdout",
     "output_type": "stream",
     "text": [
      "Var  58854243.16988889\n"
     ]
    }
   ],
   "source": [
    "Erx = 0\n",
    "Erx2 = 0\n",
    "for v in x:\n",
    "    Erx2 += np.exp(v) ** 2\n",
    "    Erx += np.exp(v)\n",
    "Erx2 /= len(x)\n",
    "Erx /= len(x)\n",
    "print('Var ', Erx2 - Erx ** 2)"
   ]
  },
  {
   "cell_type": "markdown",
   "metadata": {},
   "source": [
    "For other models bias will not vanish but variance may be smaller. Example $x^2$"
   ]
  },
  {
   "cell_type": "code",
   "execution_count": 25,
   "metadata": {},
   "outputs": [
    {
     "name": "stdout",
     "output_type": "stream",
     "text": [
      "Bias  3210.29982461225\n",
      "Variance  1009.061224489796\n",
      "Err  10307034.025129933\n"
     ]
    }
   ],
   "source": [
    "Er = 0\n",
    "Erx2 = 0\n",
    "Erx4 = 0\n",
    "for v in x:\n",
    "    Er += np.exp(v)\n",
    "    Erx2 += v ** 2\n",
    "    Erx4 += v ** 4\n",
    "Er /= len(x)\n",
    "Erx2 /= len(x)\n",
    "Erx4 /= len(x)\n",
    "print('Bias ', Er - Erx2)\n",
    "print('Variance ', Erx4 - Erx2 ** 2)\n",
    "print('Err ', (Er - Erx2) ** 2 + Erx4 - Erx2 ** 2)\n",
    "#1/(len(x))*(np.sum(pow(x, 2) ** 2) - 1/(len(x)) * np.sum(pow(x,2)) ** 2)"
   ]
  },
  {
   "cell_type": "markdown",
   "metadata": {},
   "source": [
    "Bad example!"
   ]
  },
  {
   "cell_type": "markdown",
   "metadata": {},
   "source": [
    "Pitfall"
   ]
  },
  {
   "cell_type": "code",
   "execution_count": null,
   "metadata": {},
   "outputs": [],
   "source": []
  }
 ],
 "metadata": {
  "kernelspec": {
   "display_name": "Python 3",
   "language": "python",
   "name": "python3"
  },
  "language_info": {
   "codemirror_mode": {
    "name": "ipython",
    "version": 3
   },
   "file_extension": ".py",
   "mimetype": "text/x-python",
   "name": "python",
   "nbconvert_exporter": "python",
   "pygments_lexer": "ipython3",
   "version": "3.7.3"
  }
 },
 "nbformat": 4,
 "nbformat_minor": 2
}
