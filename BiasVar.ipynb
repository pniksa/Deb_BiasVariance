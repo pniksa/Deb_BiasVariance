{
 "cells": [
  {
   "cell_type": "markdown",
   "metadata": {},
   "source": [
    "Bias and Variance"
   ]
  },
  {
   "cell_type": "markdown",
   "metadata": {},
   "source": [
    "Given some datapoints.\n",
    "We can model the data with a regression model.\n",
    "However, when choosing a regression model, one may under- or overfit the data.\n",
    "Two key quantities that determine the error of a model, alongside any intrinsic error or noise in the data itself is the variance and the bias of the model."
   ]
  },
  {
   "cell_type": "markdown",
   "metadata": {},
   "source": [
    "Variance:\n",
    "Given an expectation value $<f(D)>$, where D is a dataset and f is a model.\n",
    "The variance of the model for a given dataset corresponds to ${\\rm Var}(f)=<f(D)^2> - <f(D)>^2$.\n",
    "A high variance indicates overfitting as the model highly adjusts to variations in a dataset.\n"
   ]
  },
  {
   "cell_type": "markdown",
   "metadata": {},
   "source": [
    "Bias is a measure of our assumptions about the expectation about how the dataset may be modeled best.\n",
    "Let us assume we know the perfect model $\\hat{f}$.\n",
    "Then the bias of the model corresponds to ${\\rm Bias}(f, \\hat{f})<\\hat{f}> - <f>$."
   ]
  },
  {
   "cell_type": "markdown",
   "metadata": {},
   "source": [
    "Then the total error of a model can be approximated as intrinsic error + Var + Bias$^2$.\n",
    "In general we want to keep said error as low as possible.\n",
    "The intrinsic error is related to the lack of a perfect model in general and related to the incompleteness and variability of the dataset in question."
   ]
  },
  {
   "cell_type": "code",
   "execution_count": null,
   "metadata": {},
   "outputs": [],
   "source": []
  }
 ],
 "metadata": {
  "kernelspec": {
   "display_name": "Python 3",
   "language": "python",
   "name": "python3"
  },
  "language_info": {
   "codemirror_mode": {
    "name": "ipython",
    "version": 3
   },
   "file_extension": ".py",
   "mimetype": "text/x-python",
   "name": "python",
   "nbconvert_exporter": "python",
   "pygments_lexer": "ipython3",
   "version": "3.7.3"
  }
 },
 "nbformat": 4,
 "nbformat_minor": 2
}
